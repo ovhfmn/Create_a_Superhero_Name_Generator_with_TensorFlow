{
 "cells": [
  {
   "cell_type": "code",
   "id": "initial_id",
   "metadata": {
    "collapsed": true
   },
   "source": [
    "# Import the data\n",
    "!git clone https://github.com/am1tyadav/superhero"
   ],
   "outputs": [],
   "execution_count": null
  },
  {
   "metadata": {},
   "cell_type": "code",
   "source": [
    "with open('superhero/superheroes.txt', 'r') as f:\n",
    "    data = f.read()\n",
    "\n",
    "data[:20]"
   ],
   "id": "185e680f9114717f",
   "outputs": [],
   "execution_count": null
  },
  {
   "metadata": {},
   "cell_type": "code",
   "source": [
    "import tensorflow as tf\n",
    "\n",
    "print(tf.__version__)"
   ],
   "id": "ff05ce98fffd4a43",
   "outputs": [],
   "execution_count": null
  },
  {
   "metadata": {},
   "cell_type": "code",
   "source": [
    "# Create a tokenizer\n",
    "tokenizer = tf.keras.preprocessing.text.Tokenizer(\n",
    "    filters='!\"#$%&()*+,-./:;<=>?@[\\\\]^_`{|}~',\n",
    "    split='\\n',\n",
    ")"
   ],
   "id": "ee906233ac45ee6d",
   "outputs": [],
   "execution_count": null
  },
  {
   "metadata": {},
   "cell_type": "code",
   "source": "tokenizer.fit_on_texts(data)",
   "id": "b6d7198000465ba3",
   "outputs": [],
   "execution_count": null
  },
  {
   "metadata": {},
   "cell_type": "code",
   "source": [
    "# Create    char to index, and\n",
    "#           index to char dictionaries\n",
    "char_to_index = tokenizer.word_index\n",
    "index_to_char = dict((v, k) for k, v in char_to_index.items())\n",
    "\n",
    "print(index_to_char)"
   ],
   "id": "71771589b311020d",
   "outputs": [],
   "execution_count": null
  },
  {
   "metadata": {},
   "cell_type": "code",
   "source": [
    "names = data.splitlines()\n",
    "names[:10]"
   ],
   "id": "6a3d078943de913f",
   "outputs": [],
   "execution_count": null
  },
  {
   "metadata": {},
   "cell_type": "code",
   "source": "tokenizer.texts_to_sequences(names[5])",
   "id": "f1204b53e14bf1fe",
   "outputs": [],
   "execution_count": null
  },
  {
   "metadata": {},
   "cell_type": "code",
   "source": [
    "# Converting between names and sequences\n",
    "def name_to_seq(name):\n",
    "    return [tokenizer.texts_to_sequences(c)[0][0] for c in name]"
   ],
   "id": "82e283f594f14662",
   "outputs": [],
   "execution_count": null
  },
  {
   "metadata": {},
   "cell_type": "code",
   "source": "name_to_seq(names[0])",
   "id": "225ec7a08ae7ab55",
   "outputs": [],
   "execution_count": null
  },
  {
   "metadata": {},
   "cell_type": "code",
   "source": [
    "def seq_to_name(seq):\n",
    "    return ''.join([index_to_char[i] for i in seq if i != 0])"
   ],
   "id": "8e37d03fb76f7d61",
   "outputs": [],
   "execution_count": null
  },
  {
   "metadata": {},
   "cell_type": "code",
   "source": "seq_to_name(name_to_seq(names[0]))",
   "id": "9321883d888d5380",
   "outputs": [],
   "execution_count": null
  },
  {
   "metadata": {},
   "cell_type": "code",
   "source": [
    "# Creating sequences\n",
    "# Padding all sequences\n",
    "sequences = []\n",
    "\n",
    "for name in names:\n",
    "    seq = name_to_seq(name)\n",
    "    if len(seq) >= 2:\n",
    "        sequences += [seq[:i] for i in range(2, len(seq) + 1)]"
   ],
   "id": "2cd83f79547c784d",
   "outputs": [],
   "execution_count": null
  },
  {
   "metadata": {},
   "cell_type": "code",
   "source": "sequences[:10]",
   "id": "79df36ec5da11da4",
   "outputs": [],
   "execution_count": null
  },
  {
   "metadata": {},
   "cell_type": "code",
   "source": [
    "max_len = max([len(x) for x in sequences])\n",
    "print(max_len)"
   ],
   "id": "e42d27157573717a",
   "outputs": [],
   "execution_count": null
  },
  {
   "metadata": {},
   "cell_type": "code",
   "source": [
    "padded_sequences = tf.keras.preprocessing.sequence.pad_sequences(\n",
    "    sequences,\n",
    "    padding='pre',\n",
    "    maxlen=max_len\n",
    ")\n",
    "\n",
    "print(padded_sequences[0])"
   ],
   "id": "ba2a2d7d6d78e01",
   "outputs": [],
   "execution_count": null
  },
  {
   "metadata": {},
   "cell_type": "code",
   "source": "padded_sequences.shape",
   "id": "b0ffb468f62a2418",
   "outputs": [],
   "execution_count": null
  },
  {
   "metadata": {},
   "cell_type": "code",
   "source": [
    "# Create training and validation sets\n",
    "x, y = padded_sequences[:, :-1], padded_sequences[:, -1]\n",
    "print(x.shape, y.shape)"
   ],
   "id": "b7b8c8c9d811f3d7",
   "outputs": [],
   "execution_count": null
  },
  {
   "metadata": {},
   "cell_type": "code",
   "source": [
    "from sklearn.model_selection import train_test_split\n",
    "\n",
    "x_train, x_test, y_train, y_test = train_test_split(x, y)\n",
    "\n",
    "print(x_train.shape, y_train.shape)\n",
    "print(x_test.shape, y_test.shape)"
   ],
   "id": "e8672fe30267aa6",
   "outputs": [],
   "execution_count": null
  },
  {
   "metadata": {},
   "cell_type": "code",
   "source": [
    "num_chars = len(char_to_index.keys()) + 1\n",
    "print(num_chars)"
   ],
   "id": "81a7c1a1e4f10d66",
   "outputs": [],
   "execution_count": null
  },
  {
   "metadata": {},
   "cell_type": "code",
   "source": [
    "# Creating model\n",
    "from tensorflow.keras.models import Sequential\n",
    "from tensorflow.keras.layers import Embedding, Conv1D, MaxPool1D, LSTM, Dense\n",
    "\n",
    "model = Sequential([\n",
    "    Embedding(\n",
    "        num_chars,\n",
    "        8,\n",
    "        input_length=max_len - 1),\n",
    "    Conv1D(\n",
    "        64,\n",
    "        5,\n",
    "        strides=1,\n",
    "        activation='tanh',\n",
    "        padding='causal'),\n",
    "    MaxPool1D(2),\n",
    "    LSTM(32),\n",
    "    Dense(num_chars, activation='softmax')\n",
    "])\n",
    "\n",
    "model.compile(\n",
    "    loss='sparse_categorical_crossentropy',\n",
    "    optimizer='adam',\n",
    "    metrics='accuracy'\n",
    ")\n",
    "\n",
    "model.summary()"
   ],
   "id": "7aa5f93cd59e672b",
   "outputs": [],
   "execution_count": null
  },
  {
   "metadata": {},
   "cell_type": "code",
   "source": [
    "h = model.fit(\n",
    "    x_train, y_train,\n",
    "    validation_data=(x_test, y_test),\n",
    "    epochs=50, verbose=2,\n",
    "    callbacks=[\n",
    "        tf.keras.callbacks.EarlyStopping(monitor='val_accuracy', patience=3)\n",
    "    ]\n",
    ")"
   ],
   "id": "ba3ea980f383aa2c",
   "outputs": [],
   "execution_count": null
  },
  {
   "metadata": {},
   "cell_type": "code",
   "source": [
    "from matplotlib import pyplot as plt\n",
    "\n",
    "epochs_ran = len(h.history['loss'])\n",
    "\n",
    "plt.plot(range(0, epochs_ran), h.history['val_accuracy'], label='Validation')\n",
    "plt.plot(range(0, epochs_ran), h.history['accuracy'], label='Training')\n",
    "plt.legend()\n",
    "plt.show()"
   ],
   "id": "435b3e905fc2ae34",
   "outputs": [],
   "execution_count": null
  },
  {
   "metadata": {},
   "cell_type": "code",
   "source": [
    "def generate_names(seed):\n",
    "    for i in range(0, 40):\n",
    "        seq = name_to_seq(seed)\n",
    "        padded = tf.keras.preprocessing.sequence.pad_sequences(\n",
    "            [seq],\n",
    "            padding='pre',\n",
    "            maxlen=max_len - 1,\n",
    "            truncating='pre')\n",
    "        pred = model.predict(padded)[0]\n",
    "        pred_char = index_to_char[tf.argmax(pred).numpy()]\n",
    "        seed += pred_char\n",
    "\n",
    "        if pred_char == '\\t':\n",
    "            break\n",
    "    print(seed)"
   ],
   "id": "ccdcfd51eb29c099",
   "outputs": [],
   "execution_count": null
  },
  {
   "metadata": {},
   "cell_type": "code",
   "source": "generate_names('f')",
   "id": "65daf13d19e69094",
   "outputs": [],
   "execution_count": null
  },
  {
   "metadata": {},
   "cell_type": "code",
   "source": "",
   "id": "62ab832e35e4cf85",
   "outputs": [],
   "execution_count": null
  }
 ],
 "metadata": {
  "kernelspec": {
   "display_name": "Python 3",
   "language": "python",
   "name": "python3"
  },
  "language_info": {
   "codemirror_mode": {
    "name": "ipython",
    "version": 2
   },
   "file_extension": ".py",
   "mimetype": "text/x-python",
   "name": "python",
   "nbconvert_exporter": "python",
   "pygments_lexer": "ipython2",
   "version": "2.7.6"
  }
 },
 "nbformat": 4,
 "nbformat_minor": 5
}
